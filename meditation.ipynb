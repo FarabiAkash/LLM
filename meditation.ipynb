{
 "cells": [
  {
   "cell_type": "markdown",
   "metadata": {},
   "source": [
    "### Imports"
   ]
  },
  {
   "cell_type": "code",
   "execution_count": 1,
   "metadata": {},
   "outputs": [],
   "source": [
    "import json\n",
    "import asyncio\n",
    "from meditation_assistant import generate_instructions, AllMeditationPrompts\n",
    "from pydantic import BaseModel, Field\n",
    "from typing import List\n"
   ]
  },
  {
   "cell_type": "markdown",
   "metadata": {},
   "source": [
    "### Test Run"
   ]
  },
  {
   "cell_type": "code",
   "execution_count": 2,
   "metadata": {},
   "outputs": [
    {
     "name": "stdout",
     "output_type": "stream",
     "text": [
      "Generated instructions:\n",
      "[{'text': \"Start by finding a comfortable and quiet place where you won't be disturbed. Sit down, keep your back straight and relax your shoulders.\", 'pause': '5000'}, {'text': 'Once you are comfortable, close your eyes gently. Breathe normally and focus your attention on your breath as it goes in and out.', 'pause': '5000'}, {'text': 'Now, begin to pay attention to the sensation of your body. Notice any tension or discomfort. Don’t try to change what you find, simply be aware of it.', 'pause': '5000'}, {'text': 'Now, imagine a wave of relaxation slowly sweeping over your body. Start from the top of your head and let this wave gently flow down to your toes.', 'pause': '5000'}, {'text': 'As you continue to breathe normally, notice how each part of your body feels as the wave of relaxation passes over it. The feeling of relaxation deepens with each breath.', 'pause': '5000'}, {'text': 'Continue this process, allowing the wave of relaxation to flow through your body. No force, no pressure. It’s just you, your breath, and the comfort you feel.', 'pause': '5000'}, {'text': 'Let go of any thoughts that come into your mind. Just let them float away, and bring your focus back to the relaxing wave and your breath.', 'pause': '5000'}, {'text': \"Remember, there's no right or wrong way to do this. If you find your mind wandering, that's totally fine. Just gently bring it back to the here and now.\", 'pause': '5000'}, {'text': \"When you're ready, slowly open your eyes. Take your time to adjust before standing up. Remember, you can take this calm, relaxed feeling with you throughout your day.\", 'pause': '5000'}]\n"
     ]
    }
   ],
   "source": [
    "# Example usage\n",
    "duration = 45000 \n",
    "focus_area = 'relaxation'\n",
    "\n",
    "# Format the prompt\n",
    "prompt = AllMeditationPrompts.mindful_meditation_prompt.format(\n",
    "            duration=duration, \n",
    "            focus_area=focus_area\n",
    "            )\n",
    "\n",
    "try:\n",
    "    # Get the instructions from OpenAI\n",
    "    openAI_instructions = await generate_instructions(prompt)\n",
    "        \n",
    "    if 'instructions' in openAI_instructions:\n",
    "        print(\"Generated instructions:\")\n",
    "        print(openAI_instructions['instructions'])\n",
    "    else:\n",
    "        print(\"Unexpected result:\", openAI_instructions)\n",
    "\n",
    "except Exception as e:\n",
    "    print(\"Error: \", e)\n"
   ]
  },
  {
   "cell_type": "code",
   "execution_count": 7,
   "metadata": {},
   "outputs": [],
   "source": [
    "try:\n",
    "    # Check if the response contains the expected keys\n",
    "    assert \"instructions\" in openAI_instructions\n",
    "    assert len(openAI_instructions[\"instructions\"]) > 0\n",
    "\n",
    "    for instruction in openAI_instructions[\"instructions\"]:\n",
    "        assert \"text\" in instruction\n",
    "        assert \"pause\" in instruction\n",
    "\n",
    "except Exception as e:\n",
    "    print(\"Error: \", e)"
   ]
  }
 ],
 "metadata": {
  "kernelspec": {
   "display_name": "vEnvData",
   "language": "python",
   "name": "python3"
  },
  "language_info": {
   "codemirror_mode": {
    "name": "ipython",
    "version": 3
   },
   "file_extension": ".py",
   "mimetype": "text/x-python",
   "name": "python",
   "nbconvert_exporter": "python",
   "pygments_lexer": "ipython3",
   "version": "3.9.13"
  }
 },
 "nbformat": 4,
 "nbformat_minor": 2
}
