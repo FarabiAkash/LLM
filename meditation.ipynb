{
 "cells": [
  {
   "cell_type": "markdown",
   "metadata": {},
   "source": [
    "### Imports"
   ]
  },
  {
   "cell_type": "code",
   "execution_count": 1,
   "metadata": {},
   "outputs": [],
   "source": [
    "import json\n",
    "import asyncio\n",
    "from meditation_assistant import generate_instructions, AllMeditationPrompts"
   ]
  },
  {
   "cell_type": "markdown",
   "metadata": {},
   "source": [
    "### Test Run"
   ]
  },
  {
   "cell_type": "code",
   "execution_count": 2,
   "metadata": {},
   "outputs": [
    {
     "name": "stdout",
     "output_type": "stream",
     "text": [
      "Generated instructions: {'instructions': [{'text': \"Start by finding a comfortable and quiet place where you won't be disturbed.\", 'pause': '5000'}, {'text': 'Sit down comfortably. You can sit on a chair or cushion, ensure your back is straight but not too stiff.', 'pause': '5000'}, {'text': 'Now, gently close your eyes and take a deep breath.', 'pause': '5000'}, {'text': 'Breathe out slowly and as you do try to release any tension or stress you are holding onto.', 'pause': '5000'}, {'text': 'Continue to take slow and deep breaths. Try to focus on the sensation of your breath going in and out.', 'pause': '5000'}, {'text': \"If your mind starts to wander, don't worry, just gently bring your focus back to your breathing.\", 'pause': '10000'}, {'text': 'Finally, when you are ready, slowly open your eyes and take a moment to be aware of how your body feels.', 'pause': '10000'}]}\n"
     ]
    }
   ],
   "source": [
    "# Calling the function with the prompt\n",
    "duration=45000 \n",
    "focus_area='relaxation' \n",
    "\n",
    "# Format the prompt\n",
    "prompt = AllMeditationPrompts.mindful_meditation_prompt.format(\n",
    "            duration=duration, \n",
    "            focus_area=focus_area\n",
    "            )\n",
    "\n",
    "try:\n",
    "    # Get the instructions from OpenAI\n",
    "    openAI_response = await generate_instructions(prompt)\n",
    "    openAI_instructions=json.loads(openAI_response)\n",
    "    # Print the result\n",
    "    if \"error\" in openAI_response:\n",
    "        print(\"Error:\", openAI_instructions[\"error\"])\n",
    "    else:\n",
    "        print(\"Generated instructions:\", openAI_instructions)\n",
    "\n",
    "except Exception as e:\n",
    "    print(\"Error: \", e)"
   ]
  },
  {
   "cell_type": "code",
   "execution_count": null,
   "metadata": {},
   "outputs": [],
   "source": []
  }
 ],
 "metadata": {
  "kernelspec": {
   "display_name": "vEnvData",
   "language": "python",
   "name": "python3"
  },
  "language_info": {
   "codemirror_mode": {
    "name": "ipython",
    "version": 3
   },
   "file_extension": ".py",
   "mimetype": "text/x-python",
   "name": "python",
   "nbconvert_exporter": "python",
   "pygments_lexer": "ipython3",
   "version": "3.9.13"
  }
 },
 "nbformat": 4,
 "nbformat_minor": 2
}
